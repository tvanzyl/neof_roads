{
 "cells": [
  {
   "cell_type": "markdown",
   "id": "07c73089",
   "metadata": {},
   "source": [
    "# Coherence Change Detection using `ifgramStack.h5`"
   ]
  },
  {
   "cell_type": "markdown",
   "id": "160ed764",
   "metadata": {},
   "source": [
    "**Created by: Marin Govorcin, on Feb 17,2022**\n",
    "\n",
    "**Modified by: Terence van Zy, in 2024**\n",
    "\n",
    "This notebook shows how we can use the coherence stack for a change\\damage detection after natural hazard event, e.g. earthquakes, volcano eruption, flooding, etc..\n",
    "\n",
    "Coherence change detection (CCD) is obtained as a relative coherence loss between the \"normal\" pre-event coherence and co-event coherence. Pre-event coherence is calculated for two Synthetic Aperture Radar (SAR) SLCs acquired close before the event, whereas a co-event coherence is obtained between one before and one SAR SLC image.\n",
    "\n",
    "**Relevant literature:**\n",
    "\n",
    "1. Yun, et al. (2015a): Rapid Damage Mapping for the 2015 Mw 7.8 Gorkha Earthquake Using Synthetic Aperture Radar Data fromCOSMO–SkyMed and ALOS-2 Satellites, Seismological Research Letters, https://pubs.geoscienceworld.org/srl/article/86/6/1549-1556/315478\n",
    "\n",
    "2. Yun et al. (2015b): DAMAGE PROXY MAP FROM INTERFEROMETRIC SYNTHETIC APERTURE RADAR COHERENCE, United States Patent US 9.207,318 B2, https://patents.google.com/patent/US9207318\n",
    "\n",
    "3. Washaya, et al. (2018): Coherence Change-Detection with Sentinel-1 for Natural and Anthropogenic Disaster Monitoring in Urban Areas, Remote Sensing, http://www.mdpi.com/2072-4292/10/7/1026\n",
    "\n",
    "4. Stephenson et al. (2021): Deep Learning -based Damage Mapping with InSAR Coherence Time Series, IEEE Transactions on Geoscience and Remote Sensing, https://ieeexplore.ieee.org/document/9467551\n",
    "\n",
    "    if you want to try it..some info on RNN can be found on https://www.tensorflow.org/guide/keras/rnn\n"
   ]
  },
  {
   "cell_type": "code",
   "execution_count": 1,
   "id": "c802306d",
   "metadata": {},
   "outputs": [
    {
     "name": "stdout",
     "output_type": "stream",
     "text": [
      "MintPy version: 1.5.3\n"
     ]
    }
   ],
   "source": [
    "# Import needed python modules\n",
    "%matplotlib inline\n",
    "\n",
    "import os\n",
    "import sys\n",
    "\n",
    "import numpy as np\n",
    "import matplotlib.pyplot as plt\n",
    "from skimage import exposure\n",
    "\n",
    "# mintpy modules\n",
    "import mintpy\n",
    "from mintpy.objects import ifgramStack\n",
    "from mintpy.utils import readfile, writefile, plot, utils as ut\n",
    "\n",
    "# Check mintpy version\n",
    "print('MintPy version:', mintpy.__version__)\n",
    "\n",
    "#############################  Utilities Functions  ######################################\n",
    "def calc_coherence_change(coherence_stack, \n",
    "                          date12_list, \n",
    "                          event_date, \n",
    "                          event_date_2 = None,\n",
    "                          method = 'difference',\n",
    "                          start_date = None,\n",
    "                          start_date_2 =None,\n",
    "                          coherence_threshold = None, \n",
    "                          min_ccd_value = None, \n",
    "                          subset = None, \n",
    "                          mask = None, \n",
    "                          plot = False,\n",
    "                          print_msg = False):\n",
    "    \"\"\"\n",
    "    Calculate Coherence Change for the defined eventDate (earthquake, volcano eruption, flooding)\n",
    "\n",
    "    Input:\n",
    "      coherence_stack      ::  ndarray           - timeseries coherence stack\n",
    "      date12_list          ::  list              - dates of SAR acquistions used to generate coherence, example: '20170828_20170904'\n",
    "      event_date           ::  str               - date of the event for which CCD is calculated, example: '20170904'\n",
    "                                                   (event: earthquake, volcano eruption, flooding)\n",
    "      method               ::  str               - method for calculate CCD:\n",
    "                                                   'difference'         : difference between mean pre- and co- coherence\n",
    "                                                   'histogram_matching' : histogram matching using pre-event coherence as reference (\n",
    "                                                                          Yun et al. 2015a and Yun et al. 2015b)\n",
    "                                                   'ratio'              : ratio between pre- & co- coherence stack (Washaya, et al. 2018)\n",
    "      start_date           ::  str               - define the first date to get reference, pre-coherence stack: [start_date:event_date], \n",
    "                                                   default is first date of timeseries\n",
    "      coherence_threshold  ::  float/list        - mean spatial coherence threshold used to refine the pre-coherence stack\n",
    "      min_ccd_value        ::  float             - used to remove the CCD values below the defined value\n",
    "      subset               ::  list              - calculate CCD on image subset defined as [x1,x2,y1,y2]\n",
    "      mask                 ::  2D boolean array  - mask the CCD results with external data such as watermask, e.g. waterMask.h5\n",
    "      plot                 ::  bool              - [True/False] plot intermediate steps (default = False)\n",
    "\n",
    "    Output:\n",
    "      ccd                  ::  array             - Coherence Change Detection \n",
    "      pre_coherence        ::  array             - Mean Pre-Event Coherence, i.e. before the event\n",
    "      co_coherence         ::  array             - Mean Co-Event Coherence, i.e. during the event\n",
    "    \"\"\"\n",
    "    vprint = print if print_msg else lambda *args, **kwargs: None\n",
    "    vprint('\\n###############################################')\n",
    "    vprint('########## Coherence Change Detection #########')\n",
    "    vprint('###############################################\\n')\n",
    "    \n",
    "    methods = ['difference', 'histogram_matching', 'ratio']\n",
    "    if method not in methods:\n",
    "        raise ValueError(f\"Un-recognized CCD method: {method}!\")\n",
    "\n",
    "    # If startDate is not defined, use the first date in timeseries\n",
    "    if start_date is None:\n",
    "        start_date = date12_list[0]\n",
    "\n",
    "    if subset is None:\n",
    "        subset = [0, coherence_stack.shape[2], 0, coherence_stack.shape[1]]\n",
    "\n",
    "    ############### FIND and EXTRACT THE NEEDED DATA ##############\n",
    "    #initilize variables\n",
    "    pre_event_ix = []\n",
    "    co_event_ix = []\n",
    "\n",
    "    vprint('Get pre-event and co-event coherence data')\n",
    "    # Find coherence datasets before the Event from the start date (defined or begining of timeseries)\n",
    "    # and coherence dateset covering the Event: reference SAR acquisition before and secondary after the Event\n",
    "    if start_date_2 is not None and event_date_2 is not None:\n",
    "        for ix, date12 in enumerate(date12_list):\n",
    "            date1, date2 = date12.split('_')\n",
    "            if start_date < date1 < event_date and date2 < event_date:\n",
    "                pre_event_ix.append(ix)\n",
    "            elif date1 < event_date and date2 > event_date:\n",
    "                pre_event_ix.append(ix)\n",
    "        for ix, date12 in enumerate(date12_list):\n",
    "            date1, date2 = date12.split('_')\n",
    "            if start_date_2 < date1 < event_date_2 and date2 < event_date_2:\n",
    "                co_event_ix.append(ix)\n",
    "            elif date1 < event_date_2 and date2 > event_date_2:\n",
    "                co_event_ix.append(ix)\n",
    "    else:\n",
    "        for ix, date12 in enumerate(date12_list):\n",
    "            date1, date2 = date12.split('_')\n",
    "            if start_date < date1 < event_date and date2 < event_date:\n",
    "                pre_event_ix.append(ix)\n",
    "            elif date1 < event_date and date2 > event_date:\n",
    "                co_event_ix.append(ix)\n",
    "        \n",
    "    print([date12_list[ix] for ix in pre_event_ix])\n",
    "    print([date12_list[ix] for ix in co_event_ix])\n",
    "\n",
    "    # Coherence stacks\n",
    "    pre_coherence_stack = coherence_stack[pre_event_ix, subset[2]:subset[3], subset[0]:subset[1]]\n",
    "    co_coherence_stack  = coherence_stack[co_event_ix, subset[2]:subset[3], subset[0]:subset[1]]\n",
    "\n",
    "    # Mask coherence stack\n",
    "    if mask is not None:\n",
    "        pre_coherence_stack[:, mask == 0] = np.nan\n",
    "        co_coherence_stack[:, mask == 0]  = np.nan\n",
    "\n",
    "    #################### Refinement #############################\n",
    "    if coherence_threshold is not None:\n",
    "        vprint('Refine pre-event Coherence Stack:')\n",
    "        pre_coherence_stack_bt = pre_coherence_stack\n",
    "        mean_coherence_bt = np.nanmean(pre_coherence_stack, axis = (1,2))\n",
    "        #threshold can be manually defined as list of dates to keep\n",
    "        if isinstance(coherence_threshold, list) is True:\n",
    "            pre_coherence_stack = np.take(pre_coherence_stack, coherence_threshold, axis = 0)\n",
    "        else:\n",
    "            ix = np.where(mean_coherence_bt > coherence_threshold)\n",
    "            pre_coherence_stack = np.take(pre_coherence_stack,ix[0], axis = 0)\n",
    "            vprint('List of dates to keep:',ix[0])\n",
    "        vprint(f'Number of pre-Event Datasets After Thresholding: {pre_coherence_stack.shape[0]}')\n",
    "        mean_coherence = np.nanmean(pre_coherence_stack, axis = (1,2))        \n",
    "\n",
    "        if plot:\n",
    "            from matplotlib.ticker import FormatStrFormatter\n",
    "            fig, axs = plt.subplots(2, 2, figsize = (8,6), dpi = 100)\n",
    "            # Histograms\n",
    "            img1 = axs[0,0].hist(mean_coherence_bt, bins = 50, density = False)\n",
    "            img2 = axs[0,1].hist(mean_coherence, bins = 20, density = False)\n",
    "            axs[0,0].set_title('Pre-Event Coherence Before Thresh.')\n",
    "            axs[0,1].set_title('Pre-Event Coherence After Thresh.')\n",
    "            axs[0,0].set_ylabel('# Images', fontsize=8)\n",
    "            for ax in axs[0,:]: \n",
    "                ax.set_xlabel('Avg. Spatial Coherence', fontsize=8, weight='bold')\n",
    "                ax.xaxis.set_label_coords(0.5,0.06)\n",
    "                ax.xaxis.set_major_formatter(FormatStrFormatter('%.3f'))\n",
    "\n",
    "            #CCD plots\n",
    "            img3 = axs[1,0].imshow(np.nanmean(pre_coherence_stack_bt, axis = 0), cmap = 'gray', clim = [0,1])\n",
    "            img4 = axs[1,1].imshow(np.nanmean(pre_coherence_stack, axis = 0), cmap = 'gray', clim = [0,1])\n",
    "            for ax in axs[1,:]: \n",
    "                ax.set_xticks([]), ax.set_xticklabels([])\n",
    "                ax.set_yticks([]), ax.set_yticklabels([]) \n",
    "\n",
    "        vprint('Refine co-event Coherence Stack:')\n",
    "        co_coherence_stack_bt = co_coherence_stack\n",
    "        mean_coherence_bt = np.nanmean(co_coherence_stack, axis = (1,2))\n",
    "        #threshold can be manually defined as list of dates to keep\n",
    "        if isinstance(coherence_threshold, list) is True:\n",
    "            co_coherence_stack = np.take(co_coherence_stack, coherence_threshold, axis = 0)\n",
    "        else:\n",
    "            ix = np.where(mean_coherence_bt > coherence_threshold)\n",
    "            co_coherence_stack = np.take(co_coherence_stack,ix[0], axis = 0)\n",
    "            vprint('List of dates to keep:',ix[0])\n",
    "        vprint(f'Number of co-Event Datasets After Thresholding: {co_coherence_stack.shape[0]}')\n",
    "        mean_coherence = np.nanmean(co_coherence_stack, axis = (1,2))    \n",
    "\n",
    "        if plot:\n",
    "            from matplotlib.ticker import FormatStrFormatter\n",
    "            fig, axs = plt.subplots(2, 2, figsize = (8,6), dpi = 100)\n",
    "            # Histograms\n",
    "            img1 = axs[0,0].hist(mean_coherence_bt, bins = 50, density = False)\n",
    "            img2 = axs[0,1].hist(mean_coherence, bins = 20, density = False)\n",
    "            axs[0,0].set_title('Co-Event Coherence Before Thresh.')\n",
    "            axs[0,1].set_title('Co-Event Coherence After Thresh.')\n",
    "            axs[0,0].set_ylabel('# Images', fontsize=8)\n",
    "            for ax in axs[0,:]: \n",
    "                ax.set_xlabel('Avg. Spatial Coherence', fontsize=8, weight='bold')\n",
    "                ax.xaxis.set_label_coords(0.5,0.06)\n",
    "                ax.xaxis.set_major_formatter(FormatStrFormatter('%.3f'))\n",
    "\n",
    "            #CCD plots\n",
    "            img3 = axs[1,0].imshow(np.nanmean(co_coherence_stack_bt, axis = 0), cmap = 'gray', clim = [0,1])\n",
    "            img4 = axs[1,1].imshow(np.nanmean(co_coherence_stack, axis = 0), cmap = 'gray', clim = [0,1])\n",
    "            for ax in axs[1,:]: \n",
    "                ax.set_xticks([]), ax.set_xticklabels([])\n",
    "                ax.set_yticks([]), ax.set_yticklabels([]) \n",
    "\n",
    "    \n",
    "   \n",
    "    ######### Mean pre-event and co-event stack coherence ######\n",
    "    pre_coherence = np.nanmean(pre_coherence_stack, axis=0)\n",
    "    co_coherence = np.nanmean(co_coherence_stack, axis=0)\n",
    "    \n",
    "    ##################### CCD ##################################\n",
    "    vprint('\\nCoherence Change Detection Calculation')\n",
    "    vprint('     Method: {}'.format(method))   \n",
    "\n",
    "    # 1. Difference between mean pre_event coh.  - mean. co_event coh.\n",
    "    if method == 'difference':\n",
    "        ccd = pre_coherence - co_coherence\n",
    "\n",
    "    # 2. Histogram matching (Yun et al. 2015a and Yun et al. 2015b)\n",
    "    # between mean pre_event coh.(ref image) and mean co_event  coh. (matched image.)\n",
    "    elif method == 'histogram_matching':\n",
    "        ccd = 1 - exposure.match_histograms(co_coherence, pre_coherence, channel_axis=False)       \n",
    "\n",
    "    # 3. Ratio between pre- & co-event coherence stack (Washaya, et al. 2018):\n",
    "    elif method == 'ratio':\n",
    "        ccd = ((pre_coherence - co_coherence) / co_coherence) * 100\n",
    "\n",
    "    # ########## Remove values below min_ccd_value #################\n",
    "    if min_ccd_value is not None:\n",
    "        vprint('Removing CCD values below {}'.format(min_ccd_value))\n",
    "        ccd = np.ma.filled(np.ma.masked_where(ccd < min_ccd_value, ccd), fill_value = np.nan)\n",
    "\n",
    "    ################ Finish ######################################\n",
    "    vprint('Finish CCD calculation. Output: ccd, pre_coherence, co_coherence')\n",
    "    return ccd, pre_coherence, co_coherence\n",
    "\n",
    "\n",
    "def plot_ccd(ccd_data, \n",
    "             event_date, \n",
    "             metadata, \n",
    "             subset = None, \n",
    "             method = 'difference',\n",
    "             coherence_threshold = None,\n",
    "             title = True, \n",
    "             colorbar = True):\n",
    "             \n",
    "    \"\"\"Plot coherence change detection results.\"\"\"\n",
    "    \n",
    "    # Check the length of input array to define number of subplots\n",
    "    nimg = ccd_data.shape[0] if ccd_data.ndim > 2 else 1        \n",
    "    fig, axs = plt.subplots(1, nimg, sharey=True, figsize=(10,12), dpi = 100)\n",
    "    \n",
    "    # if subset not use select whole scene to plot\n",
    "    if subset is None:\n",
    "        subset = [0, ccd_data.shape[2], 0, ccd_data.shape[1]]\n",
    "      \n",
    "    for i in range(nimg):\n",
    "        #Single plot\n",
    "        if nimg == 1:\n",
    "            plot_method = method\n",
    "            data = ccd_data\n",
    "            ax = axs\n",
    "        #Multiple plots  \n",
    "        else:\n",
    "            plot_method = method[i]\n",
    "            data = ccd_data[i]\n",
    "            ax = axs[i]\n",
    "\n",
    "        img = ax.imshow(data[subset[2]:subset[3], subset[0]:subset[1]], cmap = 'RdGy_r')\n",
    "        if colorbar == True:\n",
    "            fig.colorbar(img, ax = ax, location = 'bottom', pad = 0.05)\n",
    "            \n",
    "        #flip left_right and up-down based on the orbit direction for radar_coded images\n",
    "        plot.auto_flip_direction(metadata, ax, print_msg=False)\n",
    "        \n",
    "        # Title On/Off\n",
    "        if title == True:\n",
    "            if coherence_threshold is not None:\n",
    "                txt = f'CCD on {event_date} \\n {plot_method} \\n w/ thresh. {coherence_threshold}'\n",
    "            else:\n",
    "                txt = f'CCD on {event_date} \\n {plot_method}'\n",
    "            ax.set_title(txt)\n",
    "    return"
   ]
  },
  {
   "cell_type": "markdown",
   "id": "393678e2",
   "metadata": {},
   "source": [
    "# 1. Coherence Change Calculation"
   ]
  },
  {
   "cell_type": "code",
   "execution_count": 2,
   "id": "c996baa7",
   "metadata": {},
   "outputs": [
    {
     "name": "stdout",
     "output_type": "stream",
     "text": [
      "open ifgramStack file: ifgramStack.h5\n",
      "reading coherence data from file: /data/neof/ifgramStack.h5 ...\n"
     ]
    }
   ],
   "source": [
    "# Change directory to your work_dir\n",
    "work_dir = os.path.expanduser('/data/neof/')\n",
    "os.chdir(work_dir)\n",
    "\n",
    "# Define input parameters\n",
    "stack_file = os.path.join(work_dir, 'ifgramStack.h5')\n",
    "geom_file = os.path.join(work_dir, 'geometryGeo.h5')\n",
    "# water_mask = os.path.join(work_dir, 'waterMask.h5')\n",
    "\n",
    "stackObj = ifgramStack(stack_file)\n",
    "stackObj.open()\n",
    "\n",
    "# Get the coherence date list\n",
    "date12_list = stackObj.date12List\n",
    "\n",
    "# # Get coherence stack from ifgramStack.h5\n",
    "coherence_stack = stackObj.read(datasetName='coherence')\n",
    "\n",
    "#Get mask from waterMask.h5\n",
    "# mask = readfile.read(water_mask)[0]\n",
    "\n",
    "#Get stack metadata\n",
    "metadata = stackObj.metadata"
   ]
  },
  {
   "cell_type": "code",
   "execution_count": 3,
   "id": "3035de48",
   "metadata": {},
   "outputs": [
    {
     "data": {
      "text/plain": [
       "['unwrapPhase', 'coherence']"
      ]
     },
     "execution_count": 3,
     "metadata": {},
     "output_type": "execute_result"
    }
   ],
   "source": [
    "stackObj.datasetNames"
   ]
  },
  {
   "cell_type": "code",
   "execution_count": 4,
   "id": "de3c2d73",
   "metadata": {},
   "outputs": [
    {
     "data": {
      "text/plain": [
       "25"
      ]
     },
     "execution_count": 4,
     "metadata": {},
     "output_type": "execute_result"
    }
   ],
   "source": [
    "coherence_stack[coherence_stack>1.0] = np.NaN\n",
    "coherence_stack[coherence_stack<0.0] = np.NaN\n",
    "nan_layers = np.isnan(coherence_stack).any(axis=(1,2))\n",
    "nan_layers.sum()"
   ]
  },
  {
   "cell_type": "code",
   "execution_count": 5,
   "id": "172419e2",
   "metadata": {},
   "outputs": [],
   "source": [
    "# #Get mask \n",
    "mask = ~(coherence_stack[~nan_layers]==0).all(axis=0)"
   ]
  },
  {
   "cell_type": "code",
   "execution_count": 6,
   "id": "b494e867",
   "metadata": {},
   "outputs": [
    {
     "data": {
      "text/plain": [
       "<matplotlib.image.AxesImage at 0x7edd3a499550>"
      ]
     },
     "execution_count": 6,
     "metadata": {},
     "output_type": "execute_result"
    },
    {
     "data": {
      "image/png": "[encoded data removed]",
      "text/plain": [
       "<Figure size 640x480 with 1 Axes>"
      ]
     },
     "metadata": {},
     "output_type": "display_data"
    }
   ],
   "source": [
    "plt.imshow(mask)"
   ]
  },
  {
   "cell_type": "code",
   "execution_count": 7,
   "id": "5a98f263",
   "metadata": {},
   "outputs": [
    {
     "data": {
      "text/plain": [
       "['unwrapPhase', 'coherence']"
      ]
     },
     "execution_count": 7,
     "metadata": {},
     "output_type": "execute_result"
    }
   ],
   "source": [
    "stackObj.datasetNames"
   ]
  },
  {
   "cell_type": "code",
   "execution_count": 31,
   "id": "31df8c45",
   "metadata": {},
   "outputs": [
    {
     "data": {
      "text/plain": [
       "['20220227', '20220415', '20230227', '20230415']"
      ]
     },
     "execution_count": 31,
     "metadata": {},
     "output_type": "execute_result"
    }
   ],
   "source": [
    "start_date_1 = '20220227'\n",
    "event_date_1 = '20220415'\n",
    "start_date_2 = '20230227'\n",
    "event_date_2 = '20230415'\n",
    "[start_date_1, event_date_1, start_date_2, event_date_2]\n",
    "# date12_list"
   ]
  },
  {
   "cell_type": "code",
   "execution_count": 32,
   "id": "d0c54c17",
   "metadata": {},
   "outputs": [
    {
     "name": "stdout",
     "output_type": "stream",
     "text": [
      "['20220228_20220312', '20220228_20220324', '20220228_20220405', '20220312_20220324', '20220312_20220405', '20220312_20220417', '20220324_20220405', '20220324_20220417', '20220324_20220429', '20220405_20220417', '20220405_20220429', '20220405_20220511']\n",
      "['20230307_20230319', '20230307_20230331', '20230307_20230412', '20230319_20230331', '20230319_20230412', '20230319_20230424', '20230331_20230412', '20230331_20230424', '20230331_20230506', '20230412_20230424', '20230412_20230506', '20230412_20230518']\n"
     ]
    }
   ],
   "source": [
    "#initilize variables\n",
    "pre_event_ix = []\n",
    "co_event_ix = []\n",
    "\n",
    "if start_date_2 is not None and event_date_2 is not None:\n",
    "    for ix, date12 in enumerate(date12_list):\n",
    "        date1, date2 = date12.split('_')\n",
    "        if start_date_1 < date1 < event_date_1 and date2 < event_date_1:\n",
    "            pre_event_ix.append(ix)\n",
    "        elif date1 < event_date_1 and date2 > event_date_1:\n",
    "            pre_event_ix.append(ix)\n",
    "    for ix, date12 in enumerate(date12_list):\n",
    "        date1, date2 = date12.split('_')\n",
    "        if start_date_2 < date1 < event_date_2 and date2 < event_date_2:\n",
    "            co_event_ix.append(ix)\n",
    "        elif date1 < event_date_2 and date2 > event_date_2:\n",
    "            co_event_ix.append(ix)\n",
    "else:\n",
    "    for ix, date12 in enumerate(date12_list):\n",
    "        date1, date2 = date12.split('_')\n",
    "        if start_date_1 < date1 < event_date_1 and date2 < event_date_1:\n",
    "            pre_event_ix.append(ix)\n",
    "        elif date1 < event_date_1 and date2 > event_date_1:\n",
    "            co_event_ix.append(ix)\n",
    "    \n",
    "print([date12_list[ix] for ix in pre_event_ix])\n",
    "print([date12_list[ix] for ix in co_event_ix])"
   ]
  },
  {
   "cell_type": "code",
   "execution_count": 33,
   "id": "06941fd3",
   "metadata": {},
   "outputs": [
    {
     "data": {
      "text/plain": [
       "array([ True, False, False, False, False, False, False, False, False,\n",
       "       False, False, False, False, False, False, False, False, False,\n",
       "       False, False, False, False, False, False])"
      ]
     },
     "execution_count": 33,
     "metadata": {},
     "output_type": "execute_result"
    }
   ],
   "source": [
    "nan_layers[pre_event_ix + co_event_ix]"
   ]
  },
  {
   "cell_type": "code",
   "execution_count": 34,
   "id": "03c04706",
   "metadata": {},
   "outputs": [],
   "source": [
    "# # Calculate CCD using three different approaches:\n",
    "# ccd_list = []\n",
    "# pre_coherence_list = []\n",
    "# co_coherence_list = []\n",
    "methods = ['difference', 'histogram_matching'] #, 'ratio']\n",
    "\n",
    "# for method in methods:\n",
    "#     ccd, pre_coherence, co_coherence = calc_coherence_change(\n",
    "#                                            coherence_stack, date12_list, event_date, event_date_2=event_date_2,\n",
    "#                                            start_date = start_date, start_date_2=start_date_2, method = method,\n",
    "#                                            coherence_threshold = None, mask = mask,\n",
    "#                                            plot = False, print_msg = True)\n",
    "#     ccd_list.append(ccd)\n",
    "#     pre_coherence_list.append(pre_coherence)\n",
    "#     co_coherence_list.append(co_coherence)\n",
    "\n",
    "# # Plot CCD results\n",
    "# plot_ccd(np.asarray(ccd_list), event_date, metadata, method = methods)\n",
    "\n",
    "# # Zoom-in to the affected area\n",
    "# plot_ccd(np.asarray(ccd_list), event_date, metadata, #subset = [200, 470, 150, 350], \n",
    "#          method = methods, title = False, colorbar = False)"
   ]
  },
  {
   "attachments": {},
   "cell_type": "markdown",
   "id": "e2ffa317",
   "metadata": {},
   "source": [
    "# 2. Refine CCD results with pre-event coherence thresholding\n",
    "\n",
    "By removing the dates with mean coherence below the defined coherence_threshold, we can refine the pre_event coherence. This can be useful when we want to remove datasets that exbit some coherence changes in the pre-event stack that are not consider as \"normal values\" at the certain time of year, such as seasonal changes or changes due to other events. This option is good to combine with startDate and subset option to obtain the \"best\" representation of the pre-event coherence."
   ]
  },
  {
   "cell_type": "code",
   "execution_count": 36,
   "id": "f2d2168f",
   "metadata": {},
   "outputs": [
    {
     "name": "stdout",
     "output_type": "stream",
     "text": [
      "\n",
      "###############################################\n",
      "########## Coherence Change Detection #########\n",
      "###############################################\n",
      "\n",
      "Get pre-event and co-event coherence data\n",
      "['20220228_20220312', '20220228_20220324', '20220228_20220405', '20220312_20220324', '20220312_20220405', '20220312_20220417', '20220324_20220405', '20220324_20220417', '20220324_20220429', '20220405_20220417', '20220405_20220429', '20220405_20220511']\n",
      "['20230307_20230319', '20230307_20230331', '20230307_20230412', '20230319_20230331', '20230319_20230412', '20230319_20230424', '20230331_20230412', '20230331_20230424', '20230331_20230506', '20230412_20230424', '20230412_20230506', '20230412_20230518']\n",
      "Refine pre-event Coherence Stack:\n",
      "List of dates to keep: [ 0  3  4  6 10 11]\n",
      "Number of pre-Event Datasets After Thresholding: 6\n",
      "Refine co-event Coherence Stack:\n",
      "List of dates to keep: [ 0  1  3  4  5  6  7  8  9 10 11]\n",
      "Number of co-Event Datasets After Thresholding: 11\n"
     ]
    },
    {
     "name": "stderr",
     "output_type": "stream",
     "text": [
      "/tmp/ipykernel_879144/2557928261.py:189: RuntimeWarning: Mean of empty slice\n",
      "  pre_coherence = np.nanmean(pre_coherence_stack, axis=0)\n"
     ]
    },
    {
     "name": "stdout",
     "output_type": "stream",
     "text": [
      "\n",
      "Coherence Change Detection Calculation\n",
      "     Method: difference\n",
      "Finish CCD calculation. Output: ccd, pre_coherence, co_coherence\n"
     ]
    },
    {
     "name": "stderr",
     "output_type": "stream",
     "text": [
      "/tmp/ipykernel_879144/2557928261.py:190: RuntimeWarning: Mean of empty slice\n",
      "  co_coherence = np.nanmean(co_coherence_stack, axis=0)\n"
     ]
    }
   ],
   "source": [
    "#######################################################################################\n",
    "#########################       REFINEMENT      ####################################\n",
    "#######################################################################################\n",
    "\n",
    "# CCD with threshold value 0.45, example with method 'difference'\n",
    "# i.e. remove datasets with mean spatial coherence below the defined threshold\n",
    "threshold = 0.36\n",
    "ccd, pre_coherence, co_coherence = calc_coherence_change(\n",
    "                                       coherence_stack, date12_list, event_date_1, event_date_2=event_date_2,\n",
    "                                       start_date = start_date_1, start_date_2=start_date_2, method = methods[0],\n",
    "                                       coherence_threshold = threshold, mask = mask,\n",
    "                                       plot = False, print_msg=True)\n",
    "\n",
    "# Use intermediate plots to show an improvement in the pre_coherence."
   ]
  },
  {
   "cell_type": "code",
   "execution_count": 39,
   "id": "b7c8bb4e",
   "metadata": {},
   "outputs": [],
   "source": [
    "import rasterio\n",
    "data_pth = '/data/neof/{filename}'\n",
    "src = rasterio.open(data_pth.format(filename='avgSpatialCoh.tiff'))"
   ]
  },
  {
   "cell_type": "code",
   "execution_count": 41,
   "id": "e8a66b76",
   "metadata": {},
   "outputs": [],
   "source": [
    "save_path = os.path.join(work_dir, 'diff_coherence.tiff')\n",
    "new_dataset = rasterio.open(\n",
    "    save_path,\n",
    "    'w',\n",
    "    driver='GTiff',\n",
    "    height=ccd.shape[0],\n",
    "    width=ccd.shape[1],\n",
    "    count=1,\n",
    "    dtype=ccd.dtype,\n",
    "    crs=src.crs,\n",
    "    transform=src.transform,\n",
    ")\n",
    "new_dataset.write(ccd, 1)\n",
    "new_dataset.close()\n",
    "\n",
    "save_path = os.path.join(work_dir, 'pre_coherence.tiff')\n",
    "new_dataset = rasterio.open(\n",
    "    save_path,\n",
    "    'w',\n",
    "    driver='GTiff',\n",
    "    height=pre_coherence.shape[0],\n",
    "    width=pre_coherence.shape[1],\n",
    "    count=1,\n",
    "    dtype=pre_coherence.dtype,\n",
    "    crs=src.crs,\n",
    "    transform=src.transform,\n",
    ")\n",
    "new_dataset.write(pre_coherence, 1)\n",
    "new_dataset.close()\n",
    "\n",
    "save_path = os.path.join(work_dir, 'co_coherence.tiff')\n",
    "new_dataset = rasterio.open(\n",
    "    save_path,\n",
    "    'w',\n",
    "    driver='GTiff',\n",
    "    height=co_coherence.shape[0],\n",
    "    width=co_coherence.shape[1],\n",
    "    count=1,\n",
    "    dtype=co_coherence.dtype,\n",
    "    crs=src.crs,\n",
    "    transform=src.transform,\n",
    ")\n",
    "new_dataset.write(co_coherence, 1)\n",
    "new_dataset.close()"
   ]
  },
  {
   "cell_type": "code",
   "execution_count": null,
   "id": "bc6e0320",
   "metadata": {},
   "outputs": [],
   "source": []
  }
 ],
 "metadata": {
  "kernelspec": {
   "display_name": "ccd",
   "language": "python",
   "name": "python3"
  },
  "language_info": {
   "codemirror_mode": {
    "name": "ipython",
    "version": 3
   },
   "file_extension": ".py",
   "mimetype": "text/x-python",
   "name": "python",
   "nbconvert_exporter": "python",
   "pygments_lexer": "ipython3",
   "version": "3.11.7"
  },
  "vscode": {
   "interpreter": {
    "hash": "36136a89e4c34ef3a8ef4ee79af69d8548dce2b81c343c477be5ab6ea8a0b4c7"
   }
  }
 },
 "nbformat": 4,
 "nbformat_minor": 5
}
